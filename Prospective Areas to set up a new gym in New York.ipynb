{
 "cells": [
  {
   "cell_type": "markdown",
   "metadata": {
    "collapsed": true
   },
   "source": [
    "## Prospective Areas to Set-up a New Gym in New York.\n",
    "\n",
    "### Introduction / Business Problem\n",
    "\n",
    "The aim of this project is to find suitable locations to open a gym in the New York, USA. The first requirement is that the new gym should be easily accessible by its prospective customers and more specifically it should be located near a metro station. The number of gyms already existing in an area should also be considered so that so as to eliminate the fierece competition. Apart from the obvious intended stakeholders, entrepreneur looking to start a gym business, similar methodology could be used for other specific types of businesses. It can serve as a starting point of locations to consider to start their business. For the project objectives to be achieved, python geolocation libraries will used, along with the Foursquare API. Also, in order to create clusters of similar candidate locations, the K-means machine learning clustering algorithm will be used.\n",
    "\n",
    "### Data\n",
    "\n",
    "The dataset for New York, which consists of 5 boroughs and 306 neighborhoods, is readily available on the web https://geo.nyu.edu/catalog/nyu_2451_34572. However, we already have this data downloaded from our previous lab session (JSON file) https://cocl.us/new_york_dataset\\n .\n",
    "\n",
    "The necessary data for this project, based on the above stated requirements, are:\n",
    "\n",
    "1) The metro stations in New York City area.\n",
    "\n",
    "2) Number of existing gyms near each station.\n",
    "\n",
    "3) In addition, the distance to the nearest gym for every metro station will be used.\n",
    "\n",
    "\n",
    "In order to obtain the data, a combination of the geopy Python library and the Foursquare API will be used:\n",
    "\n",
    "1) New York will be considered as the main center as it is indeed one of the most central location in the city. I will obtain its geospatial coordinates using the geopy library.\n",
    "\n",
    "2) Having the coordinates of the New York, the Foursquare API will be used to retrieve data for all the metro stations in this area in a radius of 15 km.\n",
    "\n",
    "3) To find the existing gyms near the metro stations, the Foursquare API will again be used for every station. I will obtain data for all the gyms located in a radius of 750 meters of every metro station\n",
    "    \n",
    "Using the collected data, I will calculate the number of existing gyms near each station. I will also be able to determine the minimum distance to a gym for every metro station from the 3rd step of the above process. This minimum distance to every metro station from a gym, along with the number of already existing gyms near the station will be used as input to KMeans clustering algorithm to obtain the clusters of areas (metro stations)."
   ]
  },
  {
   "cell_type": "code",
   "execution_count": null,
   "metadata": {},
   "outputs": [],
   "source": []
  }
 ],
 "metadata": {
  "kernelspec": {
   "display_name": "Python 3.6",
   "language": "python",
   "name": "python3"
  },
  "language_info": {
   "codemirror_mode": {
    "name": "ipython",
    "version": 3
   },
   "file_extension": ".py",
   "mimetype": "text/x-python",
   "name": "python",
   "nbconvert_exporter": "python",
   "pygments_lexer": "ipython3",
   "version": "3.6.9"
  }
 },
 "nbformat": 4,
 "nbformat_minor": 1
}
