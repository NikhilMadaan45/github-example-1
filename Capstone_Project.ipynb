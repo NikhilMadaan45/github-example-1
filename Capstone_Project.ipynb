print "This Jupyter Notebook is mainly used for Capstone Project"

import pandas as pd
import numpy as np

print "Hello Capstone Project Course"

